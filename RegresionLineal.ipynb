{
  "nbformat": 4,
  "nbformat_minor": 0,
  "metadata": {
    "colab": {
      "name": "RegresionLineal.ipynb",
      "provenance": [],
      "authorship_tag": "ABX9TyOS11wotr2EZxru71LHXM4o",
      "include_colab_link": true
    },
    "kernelspec": {
      "name": "python3",
      "display_name": "Python 3"
    }
  },
  "cells": [
    {
      "cell_type": "markdown",
      "metadata": {
        "id": "view-in-github",
        "colab_type": "text"
      },
      "source": [
        "<a href=\"https://colab.research.google.com/github/gsepulv1/ST0245-08/blob/master/RegresionLineal.ipynb\" target=\"_parent\"><img src=\"https://colab.research.google.com/assets/colab-badge.svg\" alt=\"Open In Colab\"/></a>"
      ]
    },
    {
      "cell_type": "code",
      "metadata": {
        "id": "x8n1HnoJUIxp"
      },
      "source": [
        "# Tratamiento de datos\n",
        "# ==============================================================================\n",
        "import pandas as pd\n",
        "import numpy as np\n",
        "\n",
        "# Gráficos\n",
        "# ==============================================================================\n",
        "import matplotlib.pyplot as plt\n",
        "from matplotlib import style\n",
        "import seaborn as sns\n",
        "\n",
        "# Preprocesado y modelado\n",
        "# ==============================================================================\n",
        "from scipy.stats import pearsonr\n",
        "from sklearn.linear_model import LinearRegression\n",
        "from sklearn.model_selection import train_test_split\n",
        "from sklearn.metrics import r2_score\n",
        "from sklearn.metrics import mean_squared_error\n",
        "\n"
      ],
      "execution_count": 3,
      "outputs": []
    },
    {
      "cell_type": "code",
      "metadata": {
        "colab": {
          "base_uri": "https://localhost:8080/",
          "height": 141
        },
        "id": "rWb-ImVcUQgj",
        "outputId": "c2abbe78-fad1-457f-981f-653345879269"
      },
      "source": [
        "# ==============================================================================\n",
        "equipos = [\"Texas\",\"Boston\",\"Detroit\",\"Kansas\",\"St.\",\"New_S.\",\"New_Y.\",\n",
        "           \"Milwaukee\",\"Colorado\",\"Houston\",\"Baltimore\",\"Los_An.\",\"Chicago\",\n",
        "           \"Cincinnati\",\"Los_P.\",\"Philadelphia\",\"Chicago\",\"Cleveland\",\"Arizona\",\n",
        "           \"Toronto\",\"Minnesota\",\"Florida\",\"Pittsburgh\",\"Oakland\",\"Tampa\",\n",
        "           \"Atlanta\",\"Washington\",\"San.F\",\"San.I\",\"Seattle\"]\n",
        "bateos = [5659,  5710, 5563, 5672, 5532, 5600, 5518, 5447, 5544, 5598,\n",
        "          5585, 5436, 5549, 5612, 5513, 5579, 5502, 5509, 5421, 5559,\n",
        "          5487, 5508, 5421, 5452, 5436, 5528, 5441, 5486, 5417, 5421]\n",
        "\n",
        "runs = [855, 875, 787, 730, 762, 718, 867, 721, 735, 615, 708, 644, 654, 735,\n",
        "        667, 713, 654, 704, 731, 743, 619, 625, 610, 645, 707, 641, 624, 570,\n",
        "        593, 556]\n",
        "\n",
        "datos = pd.DataFrame({'equipos': equipos, 'bateos': bateos, 'runs': runs})\n",
        "datos.head(3)"
      ],
      "execution_count": 4,
      "outputs": [
        {
          "output_type": "execute_result",
          "data": {
            "text/html": [
              "<div>\n",
              "<style scoped>\n",
              "    .dataframe tbody tr th:only-of-type {\n",
              "        vertical-align: middle;\n",
              "    }\n",
              "\n",
              "    .dataframe tbody tr th {\n",
              "        vertical-align: top;\n",
              "    }\n",
              "\n",
              "    .dataframe thead th {\n",
              "        text-align: right;\n",
              "    }\n",
              "</style>\n",
              "<table border=\"1\" class=\"dataframe\">\n",
              "  <thead>\n",
              "    <tr style=\"text-align: right;\">\n",
              "      <th></th>\n",
              "      <th>equipos</th>\n",
              "      <th>bateos</th>\n",
              "      <th>runs</th>\n",
              "    </tr>\n",
              "  </thead>\n",
              "  <tbody>\n",
              "    <tr>\n",
              "      <th>0</th>\n",
              "      <td>Texas</td>\n",
              "      <td>5659</td>\n",
              "      <td>855</td>\n",
              "    </tr>\n",
              "    <tr>\n",
              "      <th>1</th>\n",
              "      <td>Boston</td>\n",
              "      <td>5710</td>\n",
              "      <td>875</td>\n",
              "    </tr>\n",
              "    <tr>\n",
              "      <th>2</th>\n",
              "      <td>Detroit</td>\n",
              "      <td>5563</td>\n",
              "      <td>787</td>\n",
              "    </tr>\n",
              "  </tbody>\n",
              "</table>\n",
              "</div>"
            ],
            "text/plain": [
              "   equipos  bateos  runs\n",
              "0    Texas    5659   855\n",
              "1   Boston    5710   875\n",
              "2  Detroit    5563   787"
            ]
          },
          "metadata": {
            "tags": []
          },
          "execution_count": 4
        }
      ]
    },
    {
      "cell_type": "code",
      "metadata": {
        "colab": {
          "base_uri": "https://localhost:8080/",
          "height": 287
        },
        "id": "-Y1ZNkWCUucj",
        "outputId": "595ebb82-48e8-4d5f-93e5-b17b01478386"
      },
      "source": [
        "# Gráfico\n",
        "# ==============================================================================\n",
        "fig, ax = plt.subplots(figsize=(6, 3.84))\n",
        "\n",
        "datos.plot(\n",
        "    x    = 'bateos',\n",
        "    y    = 'runs',\n",
        "    c    = 'firebrick',\n",
        "    kind = \"scatter\",\n",
        "    ax   = ax\n",
        ")\n",
        "ax.set_title('Distribución de bateos y runs');"
      ],
      "execution_count": 5,
      "outputs": [
        {
          "output_type": "display_data",
          "data": {
            "image/png": "[encoded data removed]",
            "text/plain": [
              "<Figure size 432x276.48 with 1 Axes>"
            ]
          },
          "metadata": {
            "tags": [],
            "needs_background": "light"
          }
        }
      ]
    },
    {
      "cell_type": "code",
      "metadata": {
        "colab": {
          "base_uri": "https://localhost:8080/"
        },
        "id": "mVBRGuULVEVc",
        "outputId": "bcf92ed9-7839-40ae-a6b4-c2826c6a4649"
      },
      "source": [
        "# Correlación lineal entre las dos variables\n",
        "# ==============================================================================\n",
        "corr_test = pearsonr(x = datos['bateos'], y =  datos['runs'])\n",
        "print(\"Coeficiente de correlación de Pearson: \", corr_test[0])"
      ],
      "execution_count": 6,
      "outputs": [
        {
          "output_type": "stream",
          "text": [
            "Coeficiente de correlación de Pearson:  0.6106270467206688\n"
          ],
          "name": "stdout"
        }
      ]
    },
    {
      "cell_type": "markdown",
      "metadata": {
        "id": "FbFRQTC2VcYV"
      },
      "source": [
        "Tiene sentido intentar generar un modelo de regresión lineal con el objetivo de predecir el número de runs en función del número de bateos del equipo."
      ]
    },
    {
      "cell_type": "markdown",
      "metadata": {
        "id": "CVKTMMYWVtMr"
      },
      "source": [
        "Ajuste del modelo\n",
        "\n",
        "\n",
        "Se ajusta un modelo empleando como variable respuesta **runs** y como predictor **bateos**.\n",
        "Como en todo estudio predictivo, no solo es importante ajustar el modelo, sino también cuantificar su capacidad para predecir nuevas observaciones. Para poder hacer esta evaluación, se dividen los datos en dos grupos, uno de entrenamiento y otro de test."
      ]
    },
    {
      "cell_type": "code",
      "metadata": {
        "id": "egwc4_elV5YS"
      },
      "source": [
        "# División de los datos en train y test\n",
        "# ==============================================================================\n",
        "X = datos[['bateos']]\n",
        "y = datos['runs']\n",
        "\n",
        "X_train, X_test, y_train, y_test = train_test_split(\n",
        "                                        X.values.reshape(-1,1),\n",
        "                                        y.values.reshape(-1,1),\n",
        "                                        train_size   = 0.8,\n",
        "                                        random_state = 1234,\n",
        "                                        shuffle      = True\n",
        "                                    )\n"
      ],
      "execution_count": 8,
      "outputs": []
    },
    {
      "cell_type": "code",
      "metadata": {
        "colab": {
          "base_uri": "https://localhost:8080/"
        },
        "id": "qkjJWzOjWMkD",
        "outputId": "95edf0a3-5545-47bb-9c4b-ae0698be6ccd"
      },
      "source": [
        "# Creación del modelo utilizando matrices como en scikitlearn\n",
        "# ==============================================================================\n",
        "# A la matriz de predictores se le tiene que añadir una columna de 1s para el intercept del modelo\n",
        "X_train = sm.add_constant(X_train, prepend=True)\n",
        "modelo = sm.OLS(endog=y_train, exog=X_train,)\n",
        "modelo = modelo.fit()\n",
        "print(modelo.summary())"
      ],
      "execution_count": 11,
      "outputs": [
        {
          "output_type": "stream",
          "text": [
            "                            OLS Regression Results                            \n",
            "==============================================================================\n",
            "Dep. Variable:                      y   R-squared:                       0.271\n",
            "Model:                            OLS   Adj. R-squared:                  0.238\n",
            "Method:                 Least Squares   F-statistic:                     8.191\n",
            "Date:                Mon, 23 Nov 2020   Prob (F-statistic):            0.00906\n",
            "Time:                        13:48:30   Log-Likelihood:                -134.71\n",
            "No. Observations:                  24   AIC:                             273.4\n",
            "Df Residuals:                      22   BIC:                             275.8\n",
            "Df Model:                           1                                         \n",
            "Covariance Type:            nonrobust                                         \n",
            "==============================================================================\n",
            "                 coef    std err          t      P>|t|      [0.025      0.975]\n",
            "------------------------------------------------------------------------------\n",
            "const      -2367.7028   1066.357     -2.220      0.037   -4579.192    -156.214\n",
            "x1             0.5529      0.193      2.862      0.009       0.152       0.953\n",
            "==============================================================================\n",
            "Omnibus:                        5.033   Durbin-Watson:                   1.902\n",
            "Prob(Omnibus):                  0.081   Jarque-Bera (JB):                3.170\n",
            "Skew:                           0.829   Prob(JB):                        0.205\n",
            "Kurtosis:                       3.650   Cond. No.                     4.17e+05\n",
            "==============================================================================\n",
            "\n",
            "Warnings:\n",
            "[1] Standard Errors assume that the covariance matrix of the errors is correctly specified.\n",
            "[2] The condition number is large, 4.17e+05. This might indicate that there are\n",
            "strong multicollinearity or other numerical problems.\n"
          ],
          "name": "stdout"
        }
      ]
    },
    {
      "cell_type": "markdown",
      "metadata": {
        "id": "WF1xjHIqYEEw"
      },
      "source": [
        "***Predicciones***\n",
        "\n",
        "\n",
        "Una vez entrenado el modelo, se pueden obtener predicciones para nuevos datos. Los modelos de statsmodels permiten calcular las predicciones de dos formas:\n",
        "\n",
        ".predict(): devuelve únicamente el valor de las predicciones.\n",
        "\n",
        ".get_prediction().summary_frame(): devuelve, además de las predicciones, los intervalos de confianza asociados."
      ]
    },
    {
      "cell_type": "code",
      "metadata": {
        "colab": {
          "base_uri": "https://localhost:8080/",
          "height": 788
        },
        "id": "bPiK2hNMWVl7",
        "outputId": "0f68a7cb-3a1a-4404-deeb-edaa3aa72f8c"
      },
      "source": [
        "# Predicciones con intervalo de confianza del 95%\n",
        "# ==============================================================================\n",
        "predicciones = modelo.get_prediction(exog = X_train).summary_frame(alpha=0.05)\n",
        "predicciones"
      ],
      "execution_count": 13,
      "outputs": [
        {
          "output_type": "execute_result",
          "data": {
            "text/html": [
              "<div>\n",
              "<style scoped>\n",
              "    .dataframe tbody tr th:only-of-type {\n",
              "        vertical-align: middle;\n",
              "    }\n",
              "\n",
              "    .dataframe tbody tr th {\n",
              "        vertical-align: top;\n",
              "    }\n",
              "\n",
              "    .dataframe thead th {\n",
              "        text-align: right;\n",
              "    }\n",
              "</style>\n",
              "<table border=\"1\" class=\"dataframe\">\n",
              "  <thead>\n",
              "    <tr style=\"text-align: right;\">\n",
              "      <th></th>\n",
              "      <th>mean</th>\n",
              "      <th>mean_se</th>\n",
              "      <th>mean_ci_lower</th>\n",
              "      <th>mean_ci_upper</th>\n",
              "      <th>obs_ci_lower</th>\n",
              "      <th>obs_ci_upper</th>\n",
              "    </tr>\n",
              "  </thead>\n",
              "  <tbody>\n",
              "    <tr>\n",
              "      <th>0</th>\n",
              "      <td>768.183475</td>\n",
              "      <td>32.658268</td>\n",
              "      <td>700.454374</td>\n",
              "      <td>835.912577</td>\n",
              "      <td>609.456054</td>\n",
              "      <td>926.910897</td>\n",
              "    </tr>\n",
              "    <tr>\n",
              "      <th>1</th>\n",
              "      <td>646.551778</td>\n",
              "      <td>19.237651</td>\n",
              "      <td>606.655332</td>\n",
              "      <td>686.448224</td>\n",
              "      <td>497.558860</td>\n",
              "      <td>795.544695</td>\n",
              "    </tr>\n",
              "    <tr>\n",
              "      <th>2</th>\n",
              "      <td>680.276930</td>\n",
              "      <td>14.186441</td>\n",
              "      <td>650.856053</td>\n",
              "      <td>709.697807</td>\n",
              "      <td>533.741095</td>\n",
              "      <td>826.812765</td>\n",
              "    </tr>\n",
              "    <tr>\n",
              "      <th>3</th>\n",
              "      <td>735.011194</td>\n",
              "      <td>22.767596</td>\n",
              "      <td>687.794091</td>\n",
              "      <td>782.228298</td>\n",
              "      <td>583.893300</td>\n",
              "      <td>886.129088</td>\n",
              "    </tr>\n",
              "    <tr>\n",
              "      <th>4</th>\n",
              "      <td>629.412766</td>\n",
              "      <td>23.713237</td>\n",
              "      <td>580.234522</td>\n",
              "      <td>678.591009</td>\n",
              "      <td>477.670673</td>\n",
              "      <td>781.154858</td>\n",
              "    </tr>\n",
              "    <tr>\n",
              "      <th>5</th>\n",
              "      <td>637.705836</td>\n",
              "      <td>21.455690</td>\n",
              "      <td>593.209459</td>\n",
              "      <td>682.202213</td>\n",
              "      <td>487.415815</td>\n",
              "      <td>787.995858</td>\n",
              "    </tr>\n",
              "    <tr>\n",
              "      <th>6</th>\n",
              "      <td>760.996148</td>\n",
              "      <td>30.413563</td>\n",
              "      <td>697.922280</td>\n",
              "      <td>824.070016</td>\n",
              "      <td>604.198585</td>\n",
              "      <td>917.793711</td>\n",
              "    </tr>\n",
              "    <tr>\n",
              "      <th>7</th>\n",
              "      <td>707.920498</td>\n",
              "      <td>16.431132</td>\n",
              "      <td>673.844415</td>\n",
              "      <td>741.996581</td>\n",
              "      <td>560.379512</td>\n",
              "      <td>855.461484</td>\n",
              "    </tr>\n",
              "    <tr>\n",
              "      <th>8</th>\n",
              "      <td>665.349404</td>\n",
              "      <td>15.547549</td>\n",
              "      <td>633.105760</td>\n",
              "      <td>697.593047</td>\n",
              "      <td>518.220836</td>\n",
              "      <td>812.477972</td>\n",
              "    </tr>\n",
              "    <tr>\n",
              "      <th>9</th>\n",
              "      <td>640.470193</td>\n",
              "      <td>20.738565</td>\n",
              "      <td>597.461042</td>\n",
              "      <td>683.479344</td>\n",
              "      <td>490.613761</td>\n",
              "      <td>790.326624</td>\n",
              "    </tr>\n",
              "    <tr>\n",
              "      <th>10</th>\n",
              "      <td>629.412766</td>\n",
              "      <td>23.713237</td>\n",
              "      <td>580.234522</td>\n",
              "      <td>678.591009</td>\n",
              "      <td>477.670673</td>\n",
              "      <td>781.154858</td>\n",
              "    </tr>\n",
              "    <tr>\n",
              "      <th>11</th>\n",
              "      <td>728.376738</td>\n",
              "      <td>20.999196</td>\n",
              "      <td>684.827072</td>\n",
              "      <td>771.926404</td>\n",
              "      <td>578.364284</td>\n",
              "      <td>878.389192</td>\n",
              "    </tr>\n",
              "    <tr>\n",
              "      <th>12</th>\n",
              "      <td>674.195345</td>\n",
              "      <td>14.531876</td>\n",
              "      <td>644.058079</td>\n",
              "      <td>704.332612</td>\n",
              "      <td>527.513997</td>\n",
              "      <td>820.876693</td>\n",
              "    </tr>\n",
              "    <tr>\n",
              "      <th>13</th>\n",
              "      <td>688.570001</td>\n",
              "      <td>14.222564</td>\n",
              "      <td>659.074208</td>\n",
              "      <td>718.065794</td>\n",
              "      <td>542.019106</td>\n",
              "      <td>835.120896</td>\n",
              "    </tr>\n",
              "    <tr>\n",
              "      <th>14</th>\n",
              "      <td>637.705836</td>\n",
              "      <td>21.455690</td>\n",
              "      <td>593.209459</td>\n",
              "      <td>682.202213</td>\n",
              "      <td>487.415815</td>\n",
              "      <td>787.995858</td>\n",
              "    </tr>\n",
              "    <tr>\n",
              "      <th>15</th>\n",
              "      <td>727.270995</td>\n",
              "      <td>20.715009</td>\n",
              "      <td>684.310697</td>\n",
              "      <td>770.231294</td>\n",
              "      <td>577.428577</td>\n",
              "      <td>877.113413</td>\n",
              "    </tr>\n",
              "    <tr>\n",
              "      <th>16</th>\n",
              "      <td>678.065445</td>\n",
              "      <td>14.276470</td>\n",
              "      <td>648.457859</td>\n",
              "      <td>707.673031</td>\n",
              "      <td>531.492009</td>\n",
              "      <td>824.638881</td>\n",
              "    </tr>\n",
              "    <tr>\n",
              "      <th>17</th>\n",
              "      <td>629.412766</td>\n",
              "      <td>23.713237</td>\n",
              "      <td>580.234522</td>\n",
              "      <td>678.591009</td>\n",
              "      <td>477.670673</td>\n",
              "      <td>781.154858</td>\n",
              "    </tr>\n",
              "    <tr>\n",
              "      <th>18</th>\n",
              "      <td>665.902275</td>\n",
              "      <td>15.467938</td>\n",
              "      <td>633.823736</td>\n",
              "      <td>697.980814</td>\n",
              "      <td>518.809802</td>\n",
              "      <td>812.994748</td>\n",
              "    </tr>\n",
              "    <tr>\n",
              "      <th>19</th>\n",
              "      <td>700.180299</td>\n",
              "      <td>15.229260</td>\n",
              "      <td>668.596747</td>\n",
              "      <td>731.763851</td>\n",
              "      <td>553.194981</td>\n",
              "      <td>847.165617</td>\n",
              "    </tr>\n",
              "    <tr>\n",
              "      <th>20</th>\n",
              "      <td>677.512573</td>\n",
              "      <td>14.305411</td>\n",
              "      <td>647.844966</td>\n",
              "      <td>707.180181</td>\n",
              "      <td>530.927001</td>\n",
              "      <td>824.098146</td>\n",
              "    </tr>\n",
              "    <tr>\n",
              "      <th>21</th>\n",
              "      <td>683.041287</td>\n",
              "      <td>14.132632</td>\n",
              "      <td>653.732002</td>\n",
              "      <td>712.350572</td>\n",
              "      <td>536.527816</td>\n",
              "      <td>829.554758</td>\n",
              "    </tr>\n",
              "    <tr>\n",
              "      <th>22</th>\n",
              "      <td>705.709013</td>\n",
              "      <td>16.050466</td>\n",
              "      <td>672.422383</td>\n",
              "      <td>738.995642</td>\n",
              "      <td>558.348357</td>\n",
              "      <td>853.069668</td>\n",
              "    </tr>\n",
              "    <tr>\n",
              "      <th>23</th>\n",
              "      <td>716.766440</td>\n",
              "      <td>18.203911</td>\n",
              "      <td>679.013838</td>\n",
              "      <td>754.519041</td>\n",
              "      <td>568.333216</td>\n",
              "      <td>865.199663</td>\n",
              "    </tr>\n",
              "  </tbody>\n",
              "</table>\n",
              "</div>"
            ],
            "text/plain": [
              "          mean    mean_se  ...  obs_ci_lower  obs_ci_upper\n",
              "0   768.183475  32.658268  ...    609.456054    926.910897\n",
              "1   646.551778  19.237651  ...    497.558860    795.544695\n",
              "2   680.276930  14.186441  ...    533.741095    826.812765\n",
              "3   735.011194  22.767596  ...    583.893300    886.129088\n",
              "4   629.412766  23.713237  ...    477.670673    781.154858\n",
              "5   637.705836  21.455690  ...    487.415815    787.995858\n",
              "6   760.996148  30.413563  ...    604.198585    917.793711\n",
              "7   707.920498  16.431132  ...    560.379512    855.461484\n",
              "8   665.349404  15.547549  ...    518.220836    812.477972\n",
              "9   640.470193  20.738565  ...    490.613761    790.326624\n",
              "10  629.412766  23.713237  ...    477.670673    781.154858\n",
              "11  728.376738  20.999196  ...    578.364284    878.389192\n",
              "12  674.195345  14.531876  ...    527.513997    820.876693\n",
              "13  688.570001  14.222564  ...    542.019106    835.120896\n",
              "14  637.705836  21.455690  ...    487.415815    787.995858\n",
              "15  727.270995  20.715009  ...    577.428577    877.113413\n",
              "16  678.065445  14.276470  ...    531.492009    824.638881\n",
              "17  629.412766  23.713237  ...    477.670673    781.154858\n",
              "18  665.902275  15.467938  ...    518.809802    812.994748\n",
              "19  700.180299  15.229260  ...    553.194981    847.165617\n",
              "20  677.512573  14.305411  ...    530.927001    824.098146\n",
              "21  683.041287  14.132632  ...    536.527816    829.554758\n",
              "22  705.709013  16.050466  ...    558.348357    853.069668\n",
              "23  716.766440  18.203911  ...    568.333216    865.199663\n",
              "\n",
              "[24 rows x 6 columns]"
            ]
          },
          "metadata": {
            "tags": []
          },
          "execution_count": 13
        }
      ]
    },
    {
      "cell_type": "markdown",
      "metadata": {
        "id": "pZmQrfNLYbAE"
      },
      "source": [
        "**Representación gráfica del modelo**\n",
        "Esto permite identificar la región en la que, según el modelo generado y para un determinado nivel de confianza, se encuentra el valor promedio de la variable respuesta."
      ]
    },
    {
      "cell_type": "code",
      "metadata": {
        "colab": {
          "base_uri": "https://localhost:8080/",
          "height": 257
        },
        "id": "zLfG1HF-YPL-",
        "outputId": "4869bd7f-44c4-459d-d14e-46d54c3d58c8"
      },
      "source": [
        "# Predicciones con intervalo de confianza del 95%\n",
        "# ==============================================================================\n",
        "predicciones = modelo.get_prediction(exog = X_train).summary_frame(alpha=0.05)\n",
        "predicciones['x'] = X_train[:, 1]\n",
        "predicciones['y'] = y_train\n",
        "predicciones = predicciones.sort_values('x')\n",
        "\n",
        "# Gráfico del modelo\n",
        "# ==============================================================================\n",
        "fig, ax = plt.subplots(figsize=(6, 3.84))\n",
        "\n",
        "ax.scatter(predicciones['x'], predicciones['y'], marker='o', color = \"gray\")\n",
        "ax.plot(predicciones['x'], predicciones[\"mean\"], linestyle='-', label=\"OLS\")\n",
        "ax.plot(predicciones['x'], predicciones[\"mean_ci_lower\"], linestyle='--', color='red', label=\"95% CI\")\n",
        "ax.plot(predicciones['x'], predicciones[\"mean_ci_upper\"], linestyle='--', color='red')\n",
        "ax.fill_between(predicciones['x'], predicciones[\"mean_ci_lower\"], predicciones[\"mean_ci_upper\"], alpha=0.1)\n",
        "ax.legend();"
      ],
      "execution_count": 14,
      "outputs": [
        {
          "output_type": "display_data",
          "data": {
            "image/png": "[encoded data removed]",
            "text/plain": [
              "<Figure size 432x276.48 with 1 Axes>"
            ]
          },
          "metadata": {
            "tags": [],
            "needs_background": "light"
          }
        }
      ]
    }
  ]
}